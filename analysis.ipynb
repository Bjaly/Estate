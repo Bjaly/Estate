{
 "cells": [
  {
   "cell_type": "code",
   "id": "initial_id",
   "metadata": {
    "collapsed": true,
    "ExecuteTime": {
     "end_time": "2025-02-19T14:12:37.164315Z",
     "start_time": "2025-02-19T14:12:30.572426Z"
    }
   },
   "source": [
    "#Importing libraries\n",
    "import pandas as pd\n",
    "import numpy as np\n",
    "import matplotlib.pyplot as plt\n",
    "import gdown\n",
    "#Importing data\n",
    "file_id = \"11j_xyUqLJ5vfWNv1ev8bezavIqJpV32-\"\n",
    "url = f\"https://drive.google.com/uc?id={file_id}\"\n",
    "output = \"data.csv\"\n",
    "gdown.download(url ,output, quiet=False)"
   ],
   "outputs": [
    {
     "name": "stderr",
     "output_type": "stream",
     "text": [
      "Downloading...\n",
      "From: https://drive.google.com/uc?id=11j_xyUqLJ5vfWNv1ev8bezavIqJpV32-\n",
      "To: C:\\Users\\dawid\\DataspellProjects\\Estate_\\data.csv\n",
      "100%|██████████| 549k/549k [00:00<00:00, 4.72MB/s]\n"
     ]
    },
    {
     "data": {
      "text/plain": [
       "'data.csv'"
      ]
     },
     "execution_count": 1,
     "metadata": {},
     "output_type": "execute_result"
    }
   ],
   "execution_count": 1
  },
  {
   "metadata": {
    "ExecuteTime": {
     "end_time": "2025-02-19T14:12:41.941584Z",
     "start_time": "2025-02-19T14:12:41.899393Z"
    }
   },
   "cell_type": "code",
   "source": [
    "#Reading cleaning and setting data types\n",
    "df = pd.read_csv(output,index_col=0,sep=\";\")\n",
    "df.head(10)\n",
    "col_to_del = ['Rodzaje transakcji','Jednostka miary','Atrybut','Unnamed: 9','Lokale mieszkalne']\n",
    "df.drop(col_to_del,axis=1,inplace=True)\n",
    "col_name_dict = {\"Nazwa\":\"Lokalizacja\",\"Okresy\":\"Kwartal\"}\n",
    "df.rename(columns=col_name_dict, inplace=True)\n",
    "dt_string = ['Lokalizacja','Kwartal']\n",
    "df[dt_string] = df[dt_string].astype(str)\n",
    "df['Rok'] = pd.to_datetime(df['Rok'], format='%Y')\n",
    "df['Kwartal'] = df['Kwartal'].str[:1]\n",
    "quarter_dict = {\n",
    "        \"1\":\"-01-01\",\n",
    "        \"2\":\"-04-01\",\n",
    "        \"3\":\"-07-01\",\n",
    "        \"4\":\"-10-01\"\n",
    "}\n",
    "df['Data'] = pd.to_datetime(df['Rok'].dt.year.astype(str) + df['Kwartal'].replace(quarter_dict),format='mixed')\n",
    "df['Rok'] = df['Rok'].dt.year\n"
   ],
   "id": "938721ba16004c22",
   "outputs": [],
   "execution_count": 2
  },
  {
   "metadata": {
    "ExecuteTime": {
     "end_time": "2025-02-19T14:34:08.558430Z",
     "start_time": "2025-02-19T14:34:08.550681Z"
    }
   },
   "cell_type": "code",
   "source": [
    "df[df.loc[1202000]['Lokalizacja']] = \"Powiat brzeski (mał.)\"\n",
    "print(df.loc[1202000])"
   ],
   "id": "8091eb1d72f03888",
   "outputs": [
    {
     "name": "stdout",
     "output_type": "stream",
     "text": [
      "            Lokalizacja Kwartal   Rok  Wartosc       Data  \\\n",
      "Kod                                                         \n",
      "1202000  Powiat brzeski       1  2020     3119 2020-01-01   \n",
      "1202000  Powiat brzeski       1  2021     4750 2021-01-01   \n",
      "1202000  Powiat brzeski       1  2022     4738 2022-01-01   \n",
      "1202000  Powiat brzeski       1  2023     6198 2023-01-01   \n",
      "1202000  Powiat brzeski       2  2020     3459 2020-04-01   \n",
      "1202000  Powiat brzeski       2  2021     4318 2021-04-01   \n",
      "1202000  Powiat brzeski       2  2022     5008 2022-04-01   \n",
      "1202000  Powiat brzeski       2  2023     4788 2023-04-01   \n",
      "1202000  Powiat brzeski       3  2020     4098 2020-07-01   \n",
      "1202000  Powiat brzeski       3  2021     3383 2021-07-01   \n",
      "1202000  Powiat brzeski       3  2022     6075 2022-07-01   \n",
      "1202000  Powiat brzeski       3  2023     5284 2023-07-01   \n",
      "1202000  Powiat brzeski       4  2020     4113 2020-10-01   \n",
      "1202000  Powiat brzeski       4  2021     3984 2021-10-01   \n",
      "1202000  Powiat brzeski       4  2022     6131 2022-10-01   \n",
      "1202000  Powiat brzeski       4  2023     6462 2023-10-01   \n",
      "\n",
      "                Powiat brzeski  \n",
      "Kod                             \n",
      "1202000  Powiat brzeski (mał.)  \n",
      "1202000  Powiat brzeski (mał.)  \n",
      "1202000  Powiat brzeski (mał.)  \n",
      "1202000  Powiat brzeski (mał.)  \n",
      "1202000  Powiat brzeski (mał.)  \n",
      "1202000  Powiat brzeski (mał.)  \n",
      "1202000  Powiat brzeski (mał.)  \n",
      "1202000  Powiat brzeski (mał.)  \n",
      "1202000  Powiat brzeski (mał.)  \n",
      "1202000  Powiat brzeski (mał.)  \n",
      "1202000  Powiat brzeski (mał.)  \n",
      "1202000  Powiat brzeski (mał.)  \n",
      "1202000  Powiat brzeski (mał.)  \n",
      "1202000  Powiat brzeski (mał.)  \n",
      "1202000  Powiat brzeski (mał.)  \n",
      "1202000  Powiat brzeski (mał.)  \n"
     ]
    }
   ],
   "execution_count": 54
  }
 ],
 "metadata": {
  "kernelspec": {
   "display_name": "Python 3",
   "language": "python",
   "name": "python3"
  },
  "language_info": {
   "codemirror_mode": {
    "name": "ipython",
    "version": 2
   },
   "file_extension": ".py",
   "mimetype": "text/x-python",
   "name": "python",
   "nbconvert_exporter": "python",
   "pygments_lexer": "ipython2",
   "version": "2.7.6"
  }
 },
 "nbformat": 4,
 "nbformat_minor": 5
}
