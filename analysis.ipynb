{
 "cells": [
  {
   "cell_type": "code",
   "id": "initial_id",
   "metadata": {
    "collapsed": true
   },
   "source": [
    "#Importing libraries\n",
    "import pandas as pd\n",
    "import numpy as np\n",
    "import matplotlib.pyplot as plt\n",
    "import gdown\n",
    "#Importing data\n",
    "file_id = \"11j_xyUqLJ5vfWNv1ev8bezavIqJpV32-\"\n",
    "url = f\"https://drive.google.com/uc?id={file_id}\"\n",
    "output = \"data.csv\"\n",
    "gdown.download(url ,output, quiet=False)"
   ],
   "outputs": [],
   "execution_count": null
  },
  {
   "metadata": {
    "ExecuteTime": {
     "end_time": "2025-02-18T11:44:52.941399Z",
     "start_time": "2025-02-18T11:44:52.915552Z"
    }
   },
   "cell_type": "code",
   "source": [
    "#Reading cleaning and setting data types\n",
    "df = pd.read_csv(output,index_col=0,sep=\";\")\n",
    "df.head(10)\n",
    "col_to_del = ['Rodzaje transakcji','Jednostka miary','Atrybut','Unnamed: 9','Lokale mieszkalne']\n",
    "df.drop(col_to_del,axis=1,inplace=True)\n",
    "col_name_dict = {\"Nazwa\":\"Lokalizacja\",\"Okresy\":\"Kwartal\"}\n",
    "df.rename(columns=col_name_dict, inplace=True)\n",
    "dt_string = ['Lokalizacja','Kwartal']\n",
    "df[dt_string] = df[dt_string].astype(str)\n",
    "df['Rok'] = pd.to_datetime(df['Rok'], format='%Y')\n",
    "df['Kwartal'] = df['Kwartal'].str[:1]\n",
    "quarter_dict = {\n",
    "        \"1\":\"-01-01\",\n",
    "        \"2\":\"-04-01\",\n",
    "        \"3\":\"-07-01\",\n",
    "        \"4\":\"-10-01\"\n",
    "}\n",
    "df['Data'] = pd.to_datetime(df['Rok'].dt.year.astype(str) + df['Kwartal'].replace(quarter_dict),format='mixed')\n",
    "df['Rok'] = df['Rok'].dt.year"
   ],
   "id": "938721ba16004c22",
   "outputs": [],
   "execution_count": 41
  }
 ],
 "metadata": {
  "kernelspec": {
   "display_name": "Python 3",
   "language": "python",
   "name": "python3"
  },
  "language_info": {
   "codemirror_mode": {
    "name": "ipython",
    "version": 2
   },
   "file_extension": ".py",
   "mimetype": "text/x-python",
   "name": "python",
   "nbconvert_exporter": "python",
   "pygments_lexer": "ipython2",
   "version": "2.7.6"
  }
 },
 "nbformat": 4,
 "nbformat_minor": 5
}
