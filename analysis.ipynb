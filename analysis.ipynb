{
 "cells": [
  {
   "cell_type": "code",
   "id": "initial_id",
   "metadata": {
    "collapsed": true
   },
   "source": [
    "#Importing libraries\n",
    "import pandas as pd\n",
    "import numpy as np\n",
    "import matplotlib.pyplot as plt\n",
    "import gdown\n",
    "import datetime\n",
    "#Importing data\n",
    "file_id = \"11j_xyUqLJ5vfWNv1ev8bezavIqJpV32-\"\n",
    "url = f\"https://drive.google.com/uc?id={file_id}\"\n",
    "output = \"data.csv\"\n",
    "gdown.download(url ,output, quiet=False)"
   ],
   "outputs": [],
   "execution_count": null
  },
  {
   "metadata": {
    "ExecuteTime": {
     "end_time": "2025-02-17T15:00:42.380689Z",
     "start_time": "2025-02-17T15:00:42.354386Z"
    }
   },
   "cell_type": "code",
   "source": [
    "#Reading cleaning and setting data types\n",
    "df = pd.read_csv(output,index_col=0,sep=\";\")\n",
    "df.head(10)\n",
    "col_to_del = ['Rodzaje transakcji','Jednostka miary','Atrybut','Unnamed: 9','Lokale mieszkalne']\n",
    "df.drop(col_to_del,axis=1,inplace=True)\n",
    "col_name_dict = {\"Nazwa\":\"Lokalizacja\",\"Okresy\":\"Kwartal\"}\n",
    "df.rename(columns=col_name_dict, inplace=True)\n",
    "dt_string = ['Lokalizacja','Kwartal']\n",
    "df[dt_string] = df[dt_string].astype(str)\n",
    "df['Rok'] = pd.to_datetime(df['Rok'], format='%Y')\n",
    "df['Kwartal'] = df['Kwartal'].str[:1]\n",
    "df['Kwartal'] =  'Q' + df['Kwartal'] +'-'\n",
    "df['Data'] = pd.concat([df['Kwartal'],df['Rok'].dt.year],axis=0,ignore_index=True)\n",
    "print(df.head(10))"
   ],
   "id": "938721ba16004c22",
   "outputs": [
    {
     "name": "stdout",
     "output_type": "stream",
     "text": [
      "    Lokalizacja Kwartal        Rok  Wartosc Data\n",
      "Kod                                             \n",
      "0        POLSKA     Q1- 2020-01-01     5449  Q1-\n",
      "0        POLSKA     Q1- 2021-01-01     6101  Q1-\n",
      "0        POLSKA     Q1- 2022-01-01     6881  Q1-\n",
      "0        POLSKA     Q1- 2023-01-01     7244  Q1-\n",
      "0        POLSKA     Q2- 2020-01-01     5570  Q1-\n",
      "0        POLSKA     Q2- 2021-01-01     6315  Q1-\n",
      "0        POLSKA     Q2- 2022-01-01     7118  Q1-\n",
      "0        POLSKA     Q2- 2023-01-01     7617  Q1-\n",
      "0        POLSKA     Q3- 2020-01-01     5518  Q1-\n",
      "0        POLSKA     Q3- 2021-01-01     6237  Q1-\n"
     ]
    }
   ],
   "execution_count": 31
  }
 ],
 "metadata": {
  "kernelspec": {
   "display_name": "Python 3",
   "language": "python",
   "name": "python3"
  },
  "language_info": {
   "codemirror_mode": {
    "name": "ipython",
    "version": 2
   },
   "file_extension": ".py",
   "mimetype": "text/x-python",
   "name": "python",
   "nbconvert_exporter": "python",
   "pygments_lexer": "ipython2",
   "version": "2.7.6"
  }
 },
 "nbformat": 4,
 "nbformat_minor": 5
}
